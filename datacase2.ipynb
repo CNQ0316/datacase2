{
 "cells": [
  {
   "cell_type": "code",
   "execution_count": 1,
   "metadata": {},
   "outputs": [],
   "source": [
    "import pandas as pd\n",
    "import numpy as np\n",
    "import json"
   ]
  },
  {
   "cell_type": "markdown",
   "metadata": {},
   "source": [
    "Q1:Programmatically download and load data into your favorite analytical tool. Describe the structure of the data. Number of records and fields in each records. Basic summary stats for each field (how many null fields and min/max values?)"
   ]
  },
  {
   "cell_type": "markdown",
   "metadata": {},
   "source": [
    "Number of records: 786363\n",
    "<br>\n",
    "Number of fields: 29\n",
    "<br>\n",
    "Number of null fields: 6\n",
    "<br>\n",
    "Min and max value of numerical fields: columnName(min, max)\n",
    "<br>\n",
    "avaliableMoney(-1005.63, 50000)\n",
    "<br>\n",
    "creditLimit(250, 50000)\n",
    "<br>\n",
    "currentBalance(0, 47498.81)\n",
    "<br>\n",
    "transactionAmount(0, 2011.54)"
   ]
  },
  {
   "cell_type": "code",
   "execution_count": 2,
   "metadata": {},
   "outputs": [],
   "source": [
    "translist = []\n",
    "f = open('transactions.txt','r') \n",
    "\n",
    "for line in f:\n",
    "    translist.append(line.strip('\\n'))\n",
    "    \n",
    "dict_list = []\n",
    "for item in translist:\n",
    "    a = json.loads(item)\n",
    "    dict_list.append(a)"
   ]
  },
  {
   "cell_type": "code",
   "execution_count": 3,
   "metadata": {},
   "outputs": [
    {
     "data": {
      "text/plain": [
       "(786363, 29)"
      ]
     },
     "execution_count": 3,
     "metadata": {},
     "output_type": "execute_result"
    }
   ],
   "source": [
    "transactions = pd.DataFrame.from_dict(dict_list)\n",
    "transactions.shape"
   ]
  },
  {
   "cell_type": "code",
   "execution_count": 8,
   "metadata": {},
   "outputs": [
    {
     "data": {
      "text/plain": [
       "accountNumber                object\n",
       "accountOpenDate              object\n",
       "acqCountry                   object\n",
       "availableMoney              float64\n",
       "cardCVV                      object\n",
       "cardLast4Digits              object\n",
       "cardPresent                    bool\n",
       "creditLimit                 float64\n",
       "currentBalance              float64\n",
       "currentExpDate               object\n",
       "customerId                   object\n",
       "dateOfLastAddressChange      object\n",
       "echoBuffer                  float64\n",
       "enteredCVV                   object\n",
       "expirationDateKeyInMatch       bool\n",
       "isFraud                        bool\n",
       "merchantCategoryCode         object\n",
       "merchantCity                float64\n",
       "merchantCountryCode          object\n",
       "merchantName                 object\n",
       "merchantState               float64\n",
       "merchantZip                 float64\n",
       "posConditionCode             object\n",
       "posEntryMode                 object\n",
       "posOnPremises               float64\n",
       "recurringAuthInd            float64\n",
       "transactionAmount           float64\n",
       "transactionDateTime          object\n",
       "transactionType              object\n",
       "dtype: object"
      ]
     },
     "execution_count": 8,
     "metadata": {},
     "output_type": "execute_result"
    }
   ],
   "source": [
    "transactions.dtypes"
   ]
  },
  {
   "cell_type": "code",
   "execution_count": 7,
   "metadata": {},
   "outputs": [
    {
     "data": {
      "text/html": [
       "<div>\n",
       "<style scoped>\n",
       "    .dataframe tbody tr th:only-of-type {\n",
       "        vertical-align: middle;\n",
       "    }\n",
       "\n",
       "    .dataframe tbody tr th {\n",
       "        vertical-align: top;\n",
       "    }\n",
       "\n",
       "    .dataframe thead th {\n",
       "        text-align: right;\n",
       "    }\n",
       "</style>\n",
       "<table border=\"1\" class=\"dataframe\">\n",
       "  <thead>\n",
       "    <tr style=\"text-align: right;\">\n",
       "      <th></th>\n",
       "      <th>accountNumber</th>\n",
       "      <th>accountOpenDate</th>\n",
       "      <th>acqCountry</th>\n",
       "      <th>availableMoney</th>\n",
       "      <th>cardCVV</th>\n",
       "      <th>cardLast4Digits</th>\n",
       "      <th>cardPresent</th>\n",
       "      <th>creditLimit</th>\n",
       "      <th>currentBalance</th>\n",
       "      <th>currentExpDate</th>\n",
       "      <th>...</th>\n",
       "      <th>merchantName</th>\n",
       "      <th>merchantState</th>\n",
       "      <th>merchantZip</th>\n",
       "      <th>posConditionCode</th>\n",
       "      <th>posEntryMode</th>\n",
       "      <th>posOnPremises</th>\n",
       "      <th>recurringAuthInd</th>\n",
       "      <th>transactionAmount</th>\n",
       "      <th>transactionDateTime</th>\n",
       "      <th>transactionType</th>\n",
       "    </tr>\n",
       "  </thead>\n",
       "  <tbody>\n",
       "    <tr>\n",
       "      <th>0</th>\n",
       "      <td>737265056</td>\n",
       "      <td>2015-03-14</td>\n",
       "      <td>US</td>\n",
       "      <td>5000.0</td>\n",
       "      <td>414</td>\n",
       "      <td>1803</td>\n",
       "      <td>False</td>\n",
       "      <td>5000.0</td>\n",
       "      <td>0.0</td>\n",
       "      <td>06/2023</td>\n",
       "      <td>...</td>\n",
       "      <td>Uber</td>\n",
       "      <td>NaN</td>\n",
       "      <td>NaN</td>\n",
       "      <td>01</td>\n",
       "      <td>02</td>\n",
       "      <td>NaN</td>\n",
       "      <td>NaN</td>\n",
       "      <td>98.55</td>\n",
       "      <td>2016-08-13T14:27:32</td>\n",
       "      <td>PURCHASE</td>\n",
       "    </tr>\n",
       "    <tr>\n",
       "      <th>1</th>\n",
       "      <td>737265056</td>\n",
       "      <td>2015-03-14</td>\n",
       "      <td>US</td>\n",
       "      <td>5000.0</td>\n",
       "      <td>486</td>\n",
       "      <td>767</td>\n",
       "      <td>True</td>\n",
       "      <td>5000.0</td>\n",
       "      <td>0.0</td>\n",
       "      <td>02/2024</td>\n",
       "      <td>...</td>\n",
       "      <td>AMC #191138</td>\n",
       "      <td>NaN</td>\n",
       "      <td>NaN</td>\n",
       "      <td>01</td>\n",
       "      <td>09</td>\n",
       "      <td>NaN</td>\n",
       "      <td>NaN</td>\n",
       "      <td>74.51</td>\n",
       "      <td>2016-10-11T05:05:54</td>\n",
       "      <td>PURCHASE</td>\n",
       "    </tr>\n",
       "    <tr>\n",
       "      <th>2</th>\n",
       "      <td>737265056</td>\n",
       "      <td>2015-03-14</td>\n",
       "      <td>US</td>\n",
       "      <td>5000.0</td>\n",
       "      <td>486</td>\n",
       "      <td>767</td>\n",
       "      <td>False</td>\n",
       "      <td>5000.0</td>\n",
       "      <td>0.0</td>\n",
       "      <td>08/2025</td>\n",
       "      <td>...</td>\n",
       "      <td>Play Store</td>\n",
       "      <td>NaN</td>\n",
       "      <td>NaN</td>\n",
       "      <td>01</td>\n",
       "      <td>09</td>\n",
       "      <td>NaN</td>\n",
       "      <td>NaN</td>\n",
       "      <td>7.47</td>\n",
       "      <td>2016-11-08T09:18:39</td>\n",
       "      <td>PURCHASE</td>\n",
       "    </tr>\n",
       "    <tr>\n",
       "      <th>3</th>\n",
       "      <td>737265056</td>\n",
       "      <td>2015-03-14</td>\n",
       "      <td>US</td>\n",
       "      <td>5000.0</td>\n",
       "      <td>486</td>\n",
       "      <td>767</td>\n",
       "      <td>False</td>\n",
       "      <td>5000.0</td>\n",
       "      <td>0.0</td>\n",
       "      <td>08/2025</td>\n",
       "      <td>...</td>\n",
       "      <td>Play Store</td>\n",
       "      <td>NaN</td>\n",
       "      <td>NaN</td>\n",
       "      <td>01</td>\n",
       "      <td>09</td>\n",
       "      <td>NaN</td>\n",
       "      <td>NaN</td>\n",
       "      <td>7.47</td>\n",
       "      <td>2016-12-10T02:14:50</td>\n",
       "      <td>PURCHASE</td>\n",
       "    </tr>\n",
       "    <tr>\n",
       "      <th>4</th>\n",
       "      <td>830329091</td>\n",
       "      <td>2015-08-06</td>\n",
       "      <td>US</td>\n",
       "      <td>5000.0</td>\n",
       "      <td>885</td>\n",
       "      <td>3143</td>\n",
       "      <td>True</td>\n",
       "      <td>5000.0</td>\n",
       "      <td>0.0</td>\n",
       "      <td>10/2029</td>\n",
       "      <td>...</td>\n",
       "      <td>Tim Hortons #947751</td>\n",
       "      <td>NaN</td>\n",
       "      <td>NaN</td>\n",
       "      <td>01</td>\n",
       "      <td>02</td>\n",
       "      <td>NaN</td>\n",
       "      <td>NaN</td>\n",
       "      <td>71.18</td>\n",
       "      <td>2016-03-24T21:04:46</td>\n",
       "      <td>PURCHASE</td>\n",
       "    </tr>\n",
       "  </tbody>\n",
       "</table>\n",
       "<p>5 rows × 29 columns</p>\n",
       "</div>"
      ],
      "text/plain": [
       "  accountNumber accountOpenDate acqCountry  availableMoney cardCVV  \\\n",
       "0     737265056      2015-03-14         US          5000.0     414   \n",
       "1     737265056      2015-03-14         US          5000.0     486   \n",
       "2     737265056      2015-03-14         US          5000.0     486   \n",
       "3     737265056      2015-03-14         US          5000.0     486   \n",
       "4     830329091      2015-08-06         US          5000.0     885   \n",
       "\n",
       "  cardLast4Digits  cardPresent  creditLimit  currentBalance currentExpDate  \\\n",
       "0            1803        False       5000.0             0.0        06/2023   \n",
       "1             767         True       5000.0             0.0        02/2024   \n",
       "2             767        False       5000.0             0.0        08/2025   \n",
       "3             767        False       5000.0             0.0        08/2025   \n",
       "4            3143         True       5000.0             0.0        10/2029   \n",
       "\n",
       "   ...         merchantName merchantState  merchantZip posConditionCode  \\\n",
       "0  ...                 Uber           NaN          NaN               01   \n",
       "1  ...          AMC #191138           NaN          NaN               01   \n",
       "2  ...           Play Store           NaN          NaN               01   \n",
       "3  ...           Play Store           NaN          NaN               01   \n",
       "4  ...  Tim Hortons #947751           NaN          NaN               01   \n",
       "\n",
       "   posEntryMode  posOnPremises recurringAuthInd  transactionAmount  \\\n",
       "0            02            NaN              NaN              98.55   \n",
       "1            09            NaN              NaN              74.51   \n",
       "2            09            NaN              NaN               7.47   \n",
       "3            09            NaN              NaN               7.47   \n",
       "4            02            NaN              NaN              71.18   \n",
       "\n",
       "   transactionDateTime transactionType  \n",
       "0  2016-08-13T14:27:32        PURCHASE  \n",
       "1  2016-10-11T05:05:54        PURCHASE  \n",
       "2  2016-11-08T09:18:39        PURCHASE  \n",
       "3  2016-12-10T02:14:50        PURCHASE  \n",
       "4  2016-03-24T21:04:46        PURCHASE  \n",
       "\n",
       "[5 rows x 29 columns]"
      ]
     },
     "execution_count": 7,
     "metadata": {},
     "output_type": "execute_result"
    }
   ],
   "source": [
    "transactions.replace(to_replace=r'^\\s*$',value=np.nan,regex=True,inplace=True)\n",
    "transactions.head()"
   ]
  },
  {
   "cell_type": "code",
   "execution_count": 10,
   "metadata": {},
   "outputs": [
    {
     "data": {
      "text/plain": [
       "accountNumber                    0\n",
       "accountOpenDate                  0\n",
       "acqCountry                    4562\n",
       "availableMoney                   0\n",
       "cardCVV                          0\n",
       "cardLast4Digits                  0\n",
       "cardPresent                      0\n",
       "creditLimit                      0\n",
       "currentBalance                   0\n",
       "currentExpDate                   0\n",
       "customerId                       0\n",
       "dateOfLastAddressChange          0\n",
       "echoBuffer                  786363\n",
       "enteredCVV                       0\n",
       "expirationDateKeyInMatch         0\n",
       "isFraud                          0\n",
       "merchantCategoryCode             0\n",
       "merchantCity                786363\n",
       "merchantCountryCode            724\n",
       "merchantName                     0\n",
       "merchantState               786363\n",
       "merchantZip                 786363\n",
       "posConditionCode               409\n",
       "posEntryMode                  4054\n",
       "posOnPremises               786363\n",
       "recurringAuthInd            786363\n",
       "transactionAmount                0\n",
       "transactionDateTime              0\n",
       "transactionType                698\n",
       "dtype: int64"
      ]
     },
     "execution_count": 10,
     "metadata": {},
     "output_type": "execute_result"
    }
   ],
   "source": [
    "countNaN = transactions.isna().sum()\n",
    "countNaN"
   ]
  },
  {
   "cell_type": "code",
   "execution_count": 9,
   "metadata": {},
   "outputs": [
    {
     "data": {
      "text/html": [
       "<div>\n",
       "<style scoped>\n",
       "    .dataframe tbody tr th:only-of-type {\n",
       "        vertical-align: middle;\n",
       "    }\n",
       "\n",
       "    .dataframe tbody tr th {\n",
       "        vertical-align: top;\n",
       "    }\n",
       "\n",
       "    .dataframe thead th {\n",
       "        text-align: right;\n",
       "    }\n",
       "</style>\n",
       "<table border=\"1\" class=\"dataframe\">\n",
       "  <thead>\n",
       "    <tr style=\"text-align: right;\">\n",
       "      <th></th>\n",
       "      <th>availableMoney</th>\n",
       "      <th>creditLimit</th>\n",
       "      <th>currentBalance</th>\n",
       "      <th>echoBuffer</th>\n",
       "      <th>merchantCity</th>\n",
       "      <th>merchantState</th>\n",
       "      <th>merchantZip</th>\n",
       "      <th>posOnPremises</th>\n",
       "      <th>recurringAuthInd</th>\n",
       "      <th>transactionAmount</th>\n",
       "    </tr>\n",
       "  </thead>\n",
       "  <tbody>\n",
       "    <tr>\n",
       "      <th>count</th>\n",
       "      <td>786363.000000</td>\n",
       "      <td>786363.000000</td>\n",
       "      <td>786363.000000</td>\n",
       "      <td>0.0</td>\n",
       "      <td>0.0</td>\n",
       "      <td>0.0</td>\n",
       "      <td>0.0</td>\n",
       "      <td>0.0</td>\n",
       "      <td>0.0</td>\n",
       "      <td>786363.000000</td>\n",
       "    </tr>\n",
       "    <tr>\n",
       "      <th>mean</th>\n",
       "      <td>6250.725369</td>\n",
       "      <td>10759.464459</td>\n",
       "      <td>4508.739089</td>\n",
       "      <td>NaN</td>\n",
       "      <td>NaN</td>\n",
       "      <td>NaN</td>\n",
       "      <td>NaN</td>\n",
       "      <td>NaN</td>\n",
       "      <td>NaN</td>\n",
       "      <td>136.985791</td>\n",
       "    </tr>\n",
       "    <tr>\n",
       "      <th>std</th>\n",
       "      <td>8880.783989</td>\n",
       "      <td>11636.174890</td>\n",
       "      <td>6457.442068</td>\n",
       "      <td>NaN</td>\n",
       "      <td>NaN</td>\n",
       "      <td>NaN</td>\n",
       "      <td>NaN</td>\n",
       "      <td>NaN</td>\n",
       "      <td>NaN</td>\n",
       "      <td>147.725569</td>\n",
       "    </tr>\n",
       "    <tr>\n",
       "      <th>min</th>\n",
       "      <td>-1005.630000</td>\n",
       "      <td>250.000000</td>\n",
       "      <td>0.000000</td>\n",
       "      <td>NaN</td>\n",
       "      <td>NaN</td>\n",
       "      <td>NaN</td>\n",
       "      <td>NaN</td>\n",
       "      <td>NaN</td>\n",
       "      <td>NaN</td>\n",
       "      <td>0.000000</td>\n",
       "    </tr>\n",
       "    <tr>\n",
       "      <th>25%</th>\n",
       "      <td>1077.420000</td>\n",
       "      <td>5000.000000</td>\n",
       "      <td>689.910000</td>\n",
       "      <td>NaN</td>\n",
       "      <td>NaN</td>\n",
       "      <td>NaN</td>\n",
       "      <td>NaN</td>\n",
       "      <td>NaN</td>\n",
       "      <td>NaN</td>\n",
       "      <td>33.650000</td>\n",
       "    </tr>\n",
       "    <tr>\n",
       "      <th>50%</th>\n",
       "      <td>3184.860000</td>\n",
       "      <td>7500.000000</td>\n",
       "      <td>2451.760000</td>\n",
       "      <td>NaN</td>\n",
       "      <td>NaN</td>\n",
       "      <td>NaN</td>\n",
       "      <td>NaN</td>\n",
       "      <td>NaN</td>\n",
       "      <td>NaN</td>\n",
       "      <td>87.900000</td>\n",
       "    </tr>\n",
       "    <tr>\n",
       "      <th>75%</th>\n",
       "      <td>7500.000000</td>\n",
       "      <td>15000.000000</td>\n",
       "      <td>5291.095000</td>\n",
       "      <td>NaN</td>\n",
       "      <td>NaN</td>\n",
       "      <td>NaN</td>\n",
       "      <td>NaN</td>\n",
       "      <td>NaN</td>\n",
       "      <td>NaN</td>\n",
       "      <td>191.480000</td>\n",
       "    </tr>\n",
       "    <tr>\n",
       "      <th>max</th>\n",
       "      <td>50000.000000</td>\n",
       "      <td>50000.000000</td>\n",
       "      <td>47498.810000</td>\n",
       "      <td>NaN</td>\n",
       "      <td>NaN</td>\n",
       "      <td>NaN</td>\n",
       "      <td>NaN</td>\n",
       "      <td>NaN</td>\n",
       "      <td>NaN</td>\n",
       "      <td>2011.540000</td>\n",
       "    </tr>\n",
       "  </tbody>\n",
       "</table>\n",
       "</div>"
      ],
      "text/plain": [
       "       availableMoney    creditLimit  currentBalance  echoBuffer  \\\n",
       "count   786363.000000  786363.000000   786363.000000         0.0   \n",
       "mean      6250.725369   10759.464459     4508.739089         NaN   \n",
       "std       8880.783989   11636.174890     6457.442068         NaN   \n",
       "min      -1005.630000     250.000000        0.000000         NaN   \n",
       "25%       1077.420000    5000.000000      689.910000         NaN   \n",
       "50%       3184.860000    7500.000000     2451.760000         NaN   \n",
       "75%       7500.000000   15000.000000     5291.095000         NaN   \n",
       "max      50000.000000   50000.000000    47498.810000         NaN   \n",
       "\n",
       "       merchantCity  merchantState  merchantZip  posOnPremises  \\\n",
       "count           0.0            0.0          0.0            0.0   \n",
       "mean            NaN            NaN          NaN            NaN   \n",
       "std             NaN            NaN          NaN            NaN   \n",
       "min             NaN            NaN          NaN            NaN   \n",
       "25%             NaN            NaN          NaN            NaN   \n",
       "50%             NaN            NaN          NaN            NaN   \n",
       "75%             NaN            NaN          NaN            NaN   \n",
       "max             NaN            NaN          NaN            NaN   \n",
       "\n",
       "       recurringAuthInd  transactionAmount  \n",
       "count               0.0      786363.000000  \n",
       "mean                NaN         136.985791  \n",
       "std                 NaN         147.725569  \n",
       "min                 NaN           0.000000  \n",
       "25%                 NaN          33.650000  \n",
       "50%                 NaN          87.900000  \n",
       "75%                 NaN         191.480000  \n",
       "max                 NaN        2011.540000  "
      ]
     },
     "execution_count": 9,
     "metadata": {},
     "output_type": "execute_result"
    }
   ],
   "source": [
    "transactions.describe()"
   ]
  },
  {
   "cell_type": "markdown",
   "metadata": {},
   "source": [
    "Q2: plot a histogram of processed amounts of each transaction. Report any structure you find and any hypothesis you have about that structure"
   ]
  },
  {
   "cell_type": "markdown",
   "metadata": {},
   "source": [
    "The histogram decreases sharply from left to right, showing a downward convex arc.\n",
    "<br>\n",
    "Hypothesis: log normal distribution"
   ]
  },
  {
   "cell_type": "code",
   "execution_count": 17,
   "metadata": {},
   "outputs": [
    {
     "data": {
      "text/plain": [
       "Text(0, 0.5, 'Number of transactions')"
      ]
     },
     "execution_count": 17,
     "metadata": {},
     "output_type": "execute_result"
    },
    {
     "data": {
      "image/png": "[encoded data removed]",
      "text/plain": [
       "<Figure size 432x288 with 1 Axes>"
      ]
     },
     "metadata": {
      "needs_background": "light"
     },
     "output_type": "display_data"
    }
   ],
   "source": [
    "transactions1 = transactions[~transactions['transactionAmount'].isin([0.00])]\n",
    "\n",
    "import matplotlib.pyplot as plt\n",
    "\n",
    "transactions1.transactionAmount.plot(kind = 'hist', color = 'red', bins = 50)\n",
    "plt.title('Histogram of Transactionamount')\n",
    "plt.xlabel('Transaction Amount)')\n",
    "plt.ylabel('Number of transactions')"
   ]
  },
  {
   "cell_type": "markdown",
   "metadata": {},
   "source": [
    "Q3: Can you programmatically identify multiple swipe and reversed transactions? What types of transactions did you look for and what types did you find? What share of transactions (# of transactions and $ of transactions) do you estimate to be reversed?"
   ]
  },
  {
   "cell_type": "markdown",
   "metadata": {},
   "source": [
    "① transactionType = 'REVERSAL'   &   assume time interval   &   same amount\n",
    "<br>\n",
    "② 'PURCHASE' 'REVERSAL'   &      same amount   &    time interval  "
   ]
  },
  {
   "cell_type": "code",
   "execution_count": 41,
   "metadata": {},
   "outputs": [
    {
     "name": "stderr",
     "output_type": "stream",
     "text": [
      "/Users/cnq0316/anaconda3/lib/python3.7/site-packages/ipykernel_launcher.py:2: SettingWithCopyWarning: \n",
      "A value is trying to be set on a copy of a slice from a DataFrame.\n",
      "Try using .loc[row_indexer,col_indexer] = value instead\n",
      "\n",
      "See the caveats in the documentation: http://pandas.pydata.org/pandas-docs/stable/indexing.html#indexing-view-versus-copy\n",
      "  \n",
      "/Users/cnq0316/anaconda3/lib/python3.7/site-packages/ipykernel_launcher.py:4: SettingWithCopyWarning: \n",
      "A value is trying to be set on a copy of a slice from a DataFrame\n",
      "\n",
      "See the caveats in the documentation: http://pandas.pydata.org/pandas-docs/stable/indexing.html#indexing-view-versus-copy\n",
      "  after removing the cwd from sys.path.\n",
      "/Users/cnq0316/anaconda3/lib/python3.7/site-packages/ipykernel_launcher.py:6: SettingWithCopyWarning: \n",
      "A value is trying to be set on a copy of a slice from a DataFrame.\n",
      "Try using .loc[row_indexer,col_indexer] = value instead\n",
      "\n",
      "See the caveats in the documentation: http://pandas.pydata.org/pandas-docs/stable/indexing.html#indexing-view-versus-copy\n",
      "  \n",
      "/Users/cnq0316/anaconda3/lib/python3.7/site-packages/ipykernel_launcher.py:7: SettingWithCopyWarning: \n",
      "A value is trying to be set on a copy of a slice from a DataFrame.\n",
      "Try using .loc[row_indexer,col_indexer] = value instead\n",
      "\n",
      "See the caveats in the documentation: http://pandas.pydata.org/pandas-docs/stable/indexing.html#indexing-view-versus-copy\n",
      "  import sys\n",
      "/Users/cnq0316/anaconda3/lib/python3.7/site-packages/ipykernel_launcher.py:9: SettingWithCopyWarning: \n",
      "A value is trying to be set on a copy of a slice from a DataFrame.\n",
      "Try using .loc[row_indexer,col_indexer] = value instead\n",
      "\n",
      "See the caveats in the documentation: http://pandas.pydata.org/pandas-docs/stable/indexing.html#indexing-view-versus-copy\n",
      "  if __name__ == '__main__':\n"
     ]
    },
    {
     "data": {
      "text/plain": [
       "0.0      715\n",
       "2.0      693\n",
       "1.0      670\n",
       "3.0      640\n",
       "4.0      633\n",
       "5.0      633\n",
       "6.0      603\n",
       "8.0      561\n",
       "7.0      536\n",
       "10.0     522\n",
       "9.0      518\n",
       "13.0     496\n",
       "11.0     469\n",
       "14.0     446\n",
       "12.0     445\n",
       "15.0     420\n",
       "16.0     411\n",
       "17.0     402\n",
       "18.0     365\n",
       "20.0     350\n",
       "19.0     339\n",
       "23.0     322\n",
       "22.0     313\n",
       "26.0     291\n",
       "24.0     285\n",
       "21.0     284\n",
       "28.0     283\n",
       "25.0     274\n",
       "27.0     247\n",
       "29.0     233\n",
       "        ... \n",
       "189.0      1\n",
       "232.0      1\n",
       "170.0      1\n",
       "163.0      1\n",
       "217.0      1\n",
       "302.0      1\n",
       "284.0      1\n",
       "147.0      1\n",
       "199.0      1\n",
       "200.0      1\n",
       "180.0      1\n",
       "214.0      1\n",
       "216.0      1\n",
       "268.0      1\n",
       "208.0      1\n",
       "240.0      1\n",
       "186.0      1\n",
       "248.0      1\n",
       "156.0      1\n",
       "219.0      1\n",
       "242.0      1\n",
       "237.0      1\n",
       "139.0      1\n",
       "222.0      1\n",
       "152.0      1\n",
       "209.0      1\n",
       "202.0      1\n",
       "206.0      1\n",
       "172.0      1\n",
       "175.0      1\n",
       "Name: Minutes, Length: 207, dtype: int64"
      ]
     },
     "execution_count": 41,
     "metadata": {},
     "output_type": "execute_result"
    }
   ],
   "source": [
    "from datetime import datetime\n",
    "transactions1['transactionTime'] = transactions1['transactionDateTime'].apply(lambda x: datetime.strptime(x, '%Y-%m-%dT%H:%M:%S'))\n",
    "\n",
    "transaction2.sort_values(by = 'transactionTime',inplace = True, ascending = True)\n",
    "\n",
    "transaction2['Time'] = transaction2.transactionTime - transaction2.transactionTime.shift(1)\n",
    "transaction2['Minutes']=transaction2.Time.astype('timedelta64[m]')\n",
    "\n",
    "transaction2['Amount'] = transaction2.transactionAmount - transaction2.transactionAmount.shift(1)\n",
    "\n",
    "transaction2.head(10)\n",
    "\n",
    "#transaction2['Amount'].value_counts()\n",
    "transaction2['Minutes'].value_counts()\n"
   ]
  },
  {
   "cell_type": "markdown",
   "metadata": {},
   "source": [
    "Q4: build a model to predict fraud transactions."
   ]
  },
  {
   "cell_type": "code",
   "execution_count": 42,
   "metadata": {},
   "outputs": [],
   "source": [
    "from sklearn import preprocessing\n",
    "from sklearn.linear_model import LogisticRegression\n",
    "from sklearn.model_selection import train_test_split\n",
    "import seaborn as sns"
   ]
  },
  {
   "cell_type": "code",
   "execution_count": null,
   "metadata": {},
   "outputs": [],
   "source": [
    "transactions.loc[transactions['isFraud'] == 'false'] = 0\n",
    "transactions.loc[transactions['isFraud'] == 'true'] = 1\n",
    "\n",
    "transactions['isFraud'].value_counts()"
   ]
  },
  {
   "cell_type": "code",
   "execution_count": null,
   "metadata": {},
   "outputs": [],
   "source": [
    "sns.countplot(x = 'isFraud', data = transactions)\n",
    "plt.show()"
   ]
  },
  {
   "cell_type": "code",
   "execution_count": null,
   "metadata": {},
   "outputs": [],
   "source": [
    "not_fraud = len(transactions[transactions['y']==0])\n",
    "fraud = len(transactions[transactions['y']==1])\n",
    "pct_of_not_fraud = not_fraud/(not_fraud + fraud)\n",
    "pct_of_fraud = count_sub/(not_fraud + fraud)\n",
    "pct_of_not_fraud, pct_of_fraud"
   ]
  },
  {
   "cell_type": "code",
   "execution_count": null,
   "metadata": {},
   "outputs": [],
   "source": [
    "transactions.groupby('isFraud').mean"
   ]
  },
  {
   "cell_type": "code",
   "execution_count": null,
   "metadata": {},
   "outputs": [],
   "source": [
    "pd.crosstab(transactions.avaliableMoney,transactions.isFraud).plot(kind='bar')\n",
    "plt.xlabel('avaliableMoney')\n",
    "plt.ylabel('isFraud')\n",
    "plt.show()"
   ]
  },
  {
   "cell_type": "code",
   "execution_count": null,
   "metadata": {},
   "outputs": [],
   "source": [
    "pd.crosstab(transactions.creditLimit,transactions.isFraud).plot(kind='bar')\n",
    "plt.xlabel('creditLimit')\n",
    "plt.ylabel('isFraud')\n",
    "plt.show()"
   ]
  },
  {
   "cell_type": "code",
   "execution_count": null,
   "metadata": {},
   "outputs": [],
   "source": [
    "pd.crosstab(transactions.currentBalance,transactions.isFraud).plot(kind='bar')\n",
    "plt.xlabel('currentBalance')\n",
    "plt.ylabel('isFraud')\n",
    "plt.show()"
   ]
  },
  {
   "cell_type": "code",
   "execution_count": null,
   "metadata": {},
   "outputs": [],
   "source": [
    "pd.crosstab(transactions.merchantCategoryCode,transactions.isFraud).plot(kind='bar')\n",
    "plt.xlabel('merchantCategoryCode')\n",
    "plt.ylabel('isFraud')\n",
    "plt.show()"
   ]
  },
  {
   "cell_type": "code",
   "execution_count": null,
   "metadata": {},
   "outputs": [],
   "source": [
    "pd.crosstab(transactions.transactionAmount,transactions.isFraud).plot(kind='bar')\n",
    "plt.xlabel('transactionAmount')\n",
    "plt.ylabel('isFraud')\n",
    "plt.show()"
   ]
  },
  {
   "cell_type": "code",
   "execution_count": null,
   "metadata": {},
   "outputs": [],
   "source": [
    "pd.crosstab(transactions.transactionType,transactions.isFraud).plot(kind='bar')\n",
    "plt.xlabel('transactionType')\n",
    "plt.ylabel('isFraud')\n",
    "plt.show()"
   ]
  },
  {
   "cell_type": "code",
   "execution_count": null,
   "metadata": {},
   "outputs": [],
   "source": [
    "LR_vars = ['avaliableMoney','creditLimit','currentBalance','merchantCategoryCode','transactionAmount']\n",
    "for var in LR_vars:\n",
    "    LR_list = 'var'+'_'+var\n",
    "    LR_list = pd.get_dummies(transactions[var], prefix=var)\n",
    "    transaction3 = transactions.join(LR_list)\n",
    "    transactions = transaction3\n",
    "LR_vars = ['job','marital','education','default','housing','loan','contact','month','day_of_week','poutcome']\n",
    "transactions_vars = transactions.columns.values.tolist()\n",
    "to_keep=[i for i in transactions_vars if i not in LR_vars]\n",
    "\n",
    "transactions_final=transactions[to_keep]"
   ]
  },
  {
   "cell_type": "code",
   "execution_count": null,
   "metadata": {},
   "outputs": [],
   "source": [
    "import statsmodels.api as sm\n",
    "logit_model=sm.Logit(transactions['isFraud'],transactions_final)\n",
    "result=logit_model.fit()\n",
    "print(result.summary2())"
   ]
  },
  {
   "cell_type": "code",
   "execution_count": null,
   "metadata": {},
   "outputs": [],
   "source": [
    "var_train, var_test, fraud_train, fraud_test = train_test_split(transactions_final, transactions['isFraud'], test_size=0.3, random_state=0)\n",
    "logreg = LogisticRegression()\n",
    "logreg.fit(var_train, fraud_train)"
   ]
  },
  {
   "cell_type": "code",
   "execution_count": null,
   "metadata": {},
   "outputs": [],
   "source": [
    "fraud_pred = logreg.predict(var_test)\n",
    "print('Accuracy of logistic regression classifier on test set: {:.2f}'.format(logreg.score(var_test, fraud_test)))"
   ]
  },
  {
   "cell_type": "code",
   "execution_count": null,
   "metadata": {},
   "outputs": [],
   "source": [
    "from sklearn.metrics import classification_report\n",
    "print(classification_report(fraud_test, fraud_pred))"
   ]
  }
 ],
 "metadata": {
  "kernelspec": {
   "display_name": "Python 3",
   "language": "python",
   "name": "python3"
  },
  "language_info": {
   "codemirror_mode": {
    "name": "ipython",
    "version": 3
   },
   "file_extension": ".py",
   "mimetype": "text/x-python",
   "name": "python",
   "nbconvert_exporter": "python",
   "pygments_lexer": "ipython3",
   "version": "3.7.3"
  }
 },
 "nbformat": 4,
 "nbformat_minor": 2
}
